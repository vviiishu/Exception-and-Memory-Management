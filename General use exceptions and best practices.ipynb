{
 "cells": [
  {
   "cell_type": "code",
   "execution_count": 1,
   "id": "5adfc5ef-1d09-408a-b53e-79d8a0e93a6c",
   "metadata": {},
   "outputs": [
    {
     "data": {
      "text/plain": [
       "2.5"
      ]
     },
     "execution_count": 1,
     "metadata": {},
     "output_type": "execute_result"
    }
   ],
   "source": [
    "10/4"
   ]
  },
  {
   "cell_type": "code",
   "execution_count": 2,
   "id": "220640aa-d334-4941-910d-3cfe340dbac5",
   "metadata": {},
   "outputs": [
    {
     "ename": "ZeroDivisionError",
     "evalue": "division by zero",
     "output_type": "error",
     "traceback": [
      "\u001b[0;31m---------------------------------------------------------------------------\u001b[0m",
      "\u001b[0;31mZeroDivisionError\u001b[0m                         Traceback (most recent call last)",
      "Cell \u001b[0;32mIn[2], line 1\u001b[0m\n\u001b[0;32m----> 1\u001b[0m \u001b[38;5;241;43m10\u001b[39;49m\u001b[38;5;241;43m/\u001b[39;49m\u001b[38;5;241;43m0\u001b[39;49m\n",
      "\u001b[0;31mZeroDivisionError\u001b[0m: division by zero"
     ]
    }
   ],
   "source": [
    "10/0"
   ]
  },
  {
   "cell_type": "code",
   "execution_count": 3,
   "id": "89788352-2835-4888-948d-6a3cefa62532",
   "metadata": {},
   "outputs": [
    {
     "name": "stdout",
     "output_type": "stream",
     "text": [
      "division by zero\n"
     ]
    }
   ],
   "source": [
    "try:\n",
    "    10/0\n",
    "except Exception as e:\n",
    "    print(e)"
   ]
  },
  {
   "cell_type": "code",
   "execution_count": 5,
   "id": "a05962e5-022b-4bd6-b4fb-149fbd9ccf11",
   "metadata": {},
   "outputs": [
    {
     "name": "stdout",
     "output_type": "stream",
     "text": [
      "Here I am handling the zero diviosion error division by zero\n"
     ]
    }
   ],
   "source": [
    "try:\n",
    "    10/0\n",
    "except ZeroDivisionError as e:\n",
    "    print(\"Here I am handling the zero diviosion error\", e)"
   ]
  },
  {
   "cell_type": "code",
   "execution_count": 6,
   "id": "c63d50c9-c21a-4e0b-ba38-d50cfb360bb0",
   "metadata": {},
   "outputs": [
    {
     "name": "stdout",
     "output_type": "stream",
     "text": [
      "This is some error\n"
     ]
    }
   ],
   "source": [
    "# this is not best practice, always go for specific exception\n",
    "# try:\n",
    "#     10/0\n",
    "# except:\n",
    "#     print(\"This is some error\")"
   ]
  },
  {
   "cell_type": "code",
   "execution_count": 7,
   "id": "c93b1752-ba4b-4e09-9f79-a34616a366ac",
   "metadata": {},
   "outputs": [
    {
     "ename": "ValueError",
     "evalue": "invalid literal for int() with base 10: 'pwskills'",
     "output_type": "error",
     "traceback": [
      "\u001b[0;31m---------------------------------------------------------------------------\u001b[0m",
      "\u001b[0;31mValueError\u001b[0m                                Traceback (most recent call last)",
      "Cell \u001b[0;32mIn[7], line 1\u001b[0m\n\u001b[0;32m----> 1\u001b[0m \u001b[38;5;28;43mint\u001b[39;49m\u001b[43m(\u001b[49m\u001b[38;5;124;43m\"\u001b[39;49m\u001b[38;5;124;43mpwskills\u001b[39;49m\u001b[38;5;124;43m\"\u001b[39;49m\u001b[43m)\u001b[49m\n",
      "\u001b[0;31mValueError\u001b[0m: invalid literal for int() with base 10: 'pwskills'"
     ]
    }
   ],
   "source": [
    "int(\"pwskills\")"
   ]
  },
  {
   "cell_type": "code",
   "execution_count": 8,
   "id": "9f604470-9d12-4d81-bd90-6cd650886538",
   "metadata": {},
   "outputs": [
    {
     "name": "stdout",
     "output_type": "stream",
     "text": [
      "The string can not be converted to integer invalid literal for int() with base 10: 'pwskills'\n"
     ]
    }
   ],
   "source": [
    "try:\n",
    "    int(\"pwskills\")\n",
    "except ValueError as e:\n",
    "    print(\"The string can not be converted to integer\", e)"
   ]
  },
  {
   "cell_type": "code",
   "execution_count": 9,
   "id": "1adb8e60-7f9b-4d46-a696-bd0bf4847b24",
   "metadata": {},
   "outputs": [
    {
     "name": "stdout",
     "output_type": "stream",
     "text": [
      "The string can not be converted to integer invalid literal for int() with base 10: 'pwskills'\n"
     ]
    }
   ],
   "source": [
    "try:\n",
    "    int(\"pwskills\")\n",
    "except (ValueError, TypeError) as e:\n",
    "    print(\"The string can not be converted to integer\", e)"
   ]
  },
  {
   "cell_type": "code",
   "execution_count": 10,
   "id": "940871ca-f015-4196-b4f3-d258c9114d12",
   "metadata": {},
   "outputs": [],
   "source": [
    "import csv"
   ]
  },
  {
   "cell_type": "code",
   "execution_count": 12,
   "id": "b4f93d21-b044-4fbd-9a1b-8cb7eee9195f",
   "metadata": {},
   "outputs": [
    {
     "name": "stdout",
     "output_type": "stream",
     "text": [
      "the module not found No module named 'pwskills'\n"
     ]
    }
   ],
   "source": [
    "try:\n",
    "    import pwskills\n",
    "except ModuleNotFoundError as e:\n",
    "    print(\"the module not found\", e)"
   ]
  },
  {
   "cell_type": "code",
   "execution_count": 13,
   "id": "3c141078-47a7-44c2-a11c-df8c159e90d0",
   "metadata": {},
   "outputs": [
    {
     "ename": "NameError",
     "evalue": "name 'test' is not defined",
     "output_type": "error",
     "traceback": [
      "\u001b[0;31m---------------------------------------------------------------------------\u001b[0m",
      "\u001b[0;31mNameError\u001b[0m                                 Traceback (most recent call last)",
      "Cell \u001b[0;32mIn[13], line 1\u001b[0m\n\u001b[0;32m----> 1\u001b[0m \u001b[43mtest\u001b[49m()\n",
      "\u001b[0;31mNameError\u001b[0m: name 'test' is not defined"
     ]
    }
   ],
   "source": [
    "test()"
   ]
  },
  {
   "cell_type": "code",
   "execution_count": 14,
   "id": "b9daf7d5-f06b-4a40-af04-14b343222b5a",
   "metadata": {},
   "outputs": [
    {
     "name": "stdout",
     "output_type": "stream",
     "text": [
      "name 'test' is not defined\n"
     ]
    }
   ],
   "source": [
    "try:\n",
    "    test()\n",
    "except NameError as e:\n",
    "    print(e)"
   ]
  },
  {
   "cell_type": "code",
   "execution_count": 15,
   "id": "d3eee894-75f2-4c8c-9f8a-11b1b439b369",
   "metadata": {},
   "outputs": [],
   "source": [
    "d = {\"name\": \"Ajay\", \"class\":\"ds\"}"
   ]
  },
  {
   "cell_type": "code",
   "execution_count": 16,
   "id": "239776ed-2d8e-42d9-8dd6-63688a695cbe",
   "metadata": {},
   "outputs": [
    {
     "data": {
      "text/plain": [
       "'Ajay'"
      ]
     },
     "execution_count": 16,
     "metadata": {},
     "output_type": "execute_result"
    }
   ],
   "source": [
    "d[\"name\"]"
   ]
  },
  {
   "cell_type": "code",
   "execution_count": 17,
   "id": "87947143-2cef-43e4-896e-d4f89f9de607",
   "metadata": {},
   "outputs": [
    {
     "ename": "KeyError",
     "evalue": "'fee'",
     "output_type": "error",
     "traceback": [
      "\u001b[0;31m---------------------------------------------------------------------------\u001b[0m",
      "\u001b[0;31mKeyError\u001b[0m                                  Traceback (most recent call last)",
      "Cell \u001b[0;32mIn[17], line 1\u001b[0m\n\u001b[0;32m----> 1\u001b[0m \u001b[43md\u001b[49m\u001b[43m[\u001b[49m\u001b[38;5;124;43m\"\u001b[39;49m\u001b[38;5;124;43mfee\u001b[39;49m\u001b[38;5;124;43m\"\u001b[39;49m\u001b[43m]\u001b[49m\n",
      "\u001b[0;31mKeyError\u001b[0m: 'fee'"
     ]
    }
   ],
   "source": [
    "d[\"fee\"]"
   ]
  },
  {
   "cell_type": "code",
   "execution_count": 19,
   "id": "61464ca4-7696-4cd3-a6f1-b9350954711b",
   "metadata": {},
   "outputs": [
    {
     "name": "stdout",
     "output_type": "stream",
     "text": [
      "The key is not found 'fee'\n"
     ]
    }
   ],
   "source": [
    "try:\n",
    "    d = {\"name\": \"Ajay\", \"class\":\"ds\"}\n",
    "    d[\"fee\"]\n",
    "except KeyError as e:\n",
    "    print(\"The key is not found\", e)"
   ]
  },
  {
   "cell_type": "code",
   "execution_count": 22,
   "id": "3ba9d6db-92ee-446e-b40b-7c9abf1a9a5e",
   "metadata": {},
   "outputs": [
    {
     "name": "stdout",
     "output_type": "stream",
     "text": [
      "list index out of range\n"
     ]
    }
   ],
   "source": [
    "try:\n",
    "    l = [1, 2, 3]\n",
    "    l[4]\n",
    "except IndexError as e:\n",
    "    print(e)"
   ]
  },
  {
   "cell_type": "code",
   "execution_count": 25,
   "id": "bfa44abb-453d-41d7-8c5d-fb835a397e20",
   "metadata": {},
   "outputs": [
    {
     "name": "stdout",
     "output_type": "stream",
     "text": [
      "My file not found, [Errno 2] No such file or directory: 'example1.txt'\n"
     ]
    }
   ],
   "source": [
    "try:\n",
    "    f = open(\"example1.txt\", \"r\")\n",
    "    f.read()\n",
    "except FileNotFoundError as e:\n",
    "    print(\"My file not found,\", e)"
   ]
  },
  {
   "cell_type": "code",
   "execution_count": 26,
   "id": "a1f4323b-fe52-47d8-9ca8-d44b78e6c13d",
   "metadata": {},
   "outputs": [
    {
     "name": "stdout",
     "output_type": "stream",
     "text": [
      "first msg [Errno 2] No such file or directory: 'example1.txt'\n"
     ]
    }
   ],
   "source": [
    "try:\n",
    "    f = open(\"example1.txt\", \"r\")\n",
    "    f.read()\n",
    "except Exception as e:\n",
    "    print(\"first msg\", e)\n",
    "except FileNotFoundError as e:\n",
    "    print(\"My file not found\", e)"
   ]
  },
  {
   "cell_type": "code",
   "execution_count": 27,
   "id": "80480d2e-d869-4f02-ae5d-b7a8dece5749",
   "metadata": {},
   "outputs": [],
   "source": [
    "#always try to log\n",
    "import logging\n",
    "logging.basicConfig(filename = \"program.log\", level = logging.DEBUG)\n",
    "try:\n",
    "    f = open(\"example1.txt\", \"r\")\n",
    "    f.read()\n",
    "except FileNotFoundError as e:\n",
    "    logging.error(f\"This is my error {e}\")"
   ]
  },
  {
   "cell_type": "code",
   "execution_count": 1,
   "id": "86105366-cbeb-4970-9c6a-5bccbb0522f4",
   "metadata": {},
   "outputs": [],
   "source": [
    "#always try to log\n",
    "import logging\n",
    "logging.basicConfig(filename = \"program1.log\", level = logging.DEBUG)\n",
    "try:\n",
    "    10/0\n",
    "except ZeroDivisionError as e:\n",
    "    logging.error(f\"This is my zero divison {e}\")"
   ]
  },
  {
   "cell_type": "code",
   "execution_count": 3,
   "id": "d69b92eb-18db-4849-a95d-370cbe52743d",
   "metadata": {},
   "outputs": [],
   "source": [
    "def test(file):\n",
    "    try:\n",
    "        f = open(file, \"r\")\n",
    "        f.read()\n",
    "    except FileNotFoundError as e:\n",
    "        print(f\"This is my error {e}\")"
   ]
  },
  {
   "cell_type": "code",
   "execution_count": 4,
   "id": "82ccae24-5950-4b51-a242-64adc9b25ddf",
   "metadata": {},
   "outputs": [
    {
     "name": "stdout",
     "output_type": "stream",
     "text": [
      "This is my error [Errno 2] No such file or directory: 'example1.txt'\n"
     ]
    }
   ],
   "source": [
    "test(\"example1.txt\")"
   ]
  },
  {
   "cell_type": "code",
   "execution_count": 6,
   "id": "8e99f972-3ede-4340-850a-5d34bbfe344a",
   "metadata": {},
   "outputs": [
    {
     "name": "stdout",
     "output_type": "stream",
     "text": [
      "My file not found [Errno 2] No such file or directory: 'example1.txt'\n"
     ]
    }
   ],
   "source": [
    "#dont try to use unnecessary exception/multiple exception\n",
    "\n",
    "try:\n",
    "    f = open(\"example1.txt\", \"r\")\n",
    "    f.read()\n",
    "except ZeroDivisionError as e:\n",
    "    print(\"first msg\", e)\n",
    "except FileNotFoundError as e:\n",
    "    print(\"My file not found\", e)"
   ]
  },
  {
   "cell_type": "code",
   "execution_count": 7,
   "id": "6492abfd-0e89-4ebb-ba23-cce463d90f26",
   "metadata": {},
   "outputs": [
    {
     "data": {
      "text/plain": [
       "'\\nThis is my documentation\\n'"
      ]
     },
     "execution_count": 7,
     "metadata": {},
     "output_type": "execute_result"
    }
   ],
   "source": [
    "#give proper documentation, proiper comments\n",
    "\n",
    "\"\"\"\n",
    "This is my documentation\n",
    "\"\"\""
   ]
  },
  {
   "cell_type": "code",
   "execution_count": null,
   "id": "c673e6e9-27e3-4543-b1db-ef4cf82ef7e7",
   "metadata": {},
   "outputs": [],
   "source": [
    "#always cleanup all the resources"
   ]
  }
 ],
 "metadata": {
  "kernelspec": {
   "display_name": "Python 3 (ipykernel)",
   "language": "python",
   "name": "python3"
  },
  "language_info": {
   "codemirror_mode": {
    "name": "ipython",
    "version": 3
   },
   "file_extension": ".py",
   "mimetype": "text/x-python",
   "name": "python",
   "nbconvert_exporter": "python",
   "pygments_lexer": "ipython3",
   "version": "3.10.8"
  }
 },
 "nbformat": 4,
 "nbformat_minor": 5
}
