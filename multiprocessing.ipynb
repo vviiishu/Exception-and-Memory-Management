{
 "cells": [
  {
   "cell_type": "code",
   "execution_count": 2,
   "id": "37023d88-8882-42bf-8442-2af8b29bb561",
   "metadata": {},
   "outputs": [
    {
     "name": "stdout",
     "output_type": "stream",
     "text": [
      "do something\n",
      "sleep for 1 sec\n",
      "done with sleeping\n",
      "do something\n",
      "sleep for 1 sec\n",
      "done with sleeping\n",
      "The program finished in 2.0 seconds.\n"
     ]
    }
   ],
   "source": [
    "import time\n",
    "start = time.perf_counter()\n",
    "\n",
    "def test_func():\n",
    "    print(\"do something\")\n",
    "    print(\"sleep for 1 sec\")\n",
    "    time.sleep(1)\n",
    "    print(\"done with sleeping\")\n",
    "\n",
    "test_func()\n",
    "test_func()\n",
    "end = time.perf_counter()\n",
    "\n",
    "\n",
    "print(f\"The program finished in {round(end-start, 2)} seconds.\")"
   ]
  },
  {
   "cell_type": "code",
   "execution_count": 3,
   "id": "365a70cf-4139-471d-9bf1-1bc0f917ff4e",
   "metadata": {},
   "outputs": [
    {
     "name": "stdout",
     "output_type": "stream",
     "text": [
      "do something\n",
      "sleep for 1 sec\n",
      "do something\n",
      "sleep for 1 sec\n",
      "done with sleeping\n",
      "done with sleeping\n",
      "The program finished in 1.05 seconds.\n"
     ]
    }
   ],
   "source": [
    "import multiprocessing\n",
    "\n",
    "import time\n",
    "start = time.perf_counter()\n",
    "\n",
    "def test_func():\n",
    "    print(\"do something\")\n",
    "    print(\"sleep for 1 sec\")\n",
    "    time.sleep(1)\n",
    "    print(\"done with sleeping\")\n",
    "\n",
    "p1 = multiprocessing.Process(target = test_func)\n",
    "p2 = multiprocessing.Process(target = test_func)\n",
    "\n",
    "\n",
    "p1.start()\n",
    "p2.start()\n",
    "\n",
    "p1.join()\n",
    "p2.join()\n",
    "\n",
    "end = time.perf_counter()\n",
    "\n",
    "\n",
    "print(f\"The program finished in {round(end-start, 2)} seconds.\")"
   ]
  },
  {
   "cell_type": "code",
   "execution_count": 4,
   "id": "5168acca-7644-4f67-b024-e8340a034d24",
   "metadata": {},
   "outputs": [
    {
     "name": "stdout",
     "output_type": "stream",
     "text": [
      "do something\n",
      "sleep for 1 secdo something\n",
      "\n",
      "do somethingsleep for 1 sec\n",
      "\n",
      "sleep for 1 secdo something\n",
      "\n",
      "sleep for 1 sec\n",
      "do something\n",
      "sleep for 1 sec\n",
      "do something\n",
      "sleep for 1 secdo somethingsleep for 1 sec\n",
      "\n",
      "\n",
      "do something\n",
      "sleep for 1 sec\n",
      "do something\n",
      "sleep for 1 sec\n",
      "do something\n",
      "sleep for 1 sec\n",
      "done with sleeping\n",
      "done with sleeping\n",
      "done with sleeping\n",
      "done with sleeping\n",
      "done with sleeping\n",
      "done with sleeping\n",
      "done with sleeping\n",
      "done with sleeping\n",
      "done with sleeping\n",
      "done with sleeping\n",
      "The program finished in 1.08 seconds.\n"
     ]
    }
   ],
   "source": [
    "import multiprocessing\n",
    "\n",
    "import time\n",
    "start = time.perf_counter()\n",
    "\n",
    "def test_func():\n",
    "    print(\"do something\")\n",
    "    print(\"sleep for 1 sec\")\n",
    "    time.sleep(1)\n",
    "    print(\"done with sleeping\")\n",
    "\n",
    "processes = []\n",
    "for i in range(10):\n",
    "    p=multiprocessing.Process(target = test_func)\n",
    "    p.start()\n",
    "    processes.append(p)\n",
    "for process in processes:\n",
    "    process.join()\n",
    "\n",
    "end = time.perf_counter()\n",
    "\n",
    "\n",
    "print(f\"The program finished in {round(end-start, 2)} seconds.\")"
   ]
  },
  {
   "cell_type": "code",
   "execution_count": 6,
   "id": "c779ad38-ad3f-41c3-b090-1d7340986007",
   "metadata": {},
   "outputs": [
    {
     "name": "stdout",
     "output_type": "stream",
     "text": [
      "[1, 4, 25, 9, 16]\n",
      "The program finished in 0.03 seconds.\n"
     ]
    }
   ],
   "source": [
    "import multiprocessing\n",
    "\n",
    "import time\n",
    "start = time.perf_counter()\n",
    "\n",
    "def square(index, value):\n",
    "    value[index] = value[index] ** 2\n",
    "\n",
    "arr = multiprocessing.Array('i', [1, 2, 5, 3, 4])\n",
    "\n",
    "\n",
    "processes = []\n",
    "for i in range(5):\n",
    "    p=multiprocessing.Process(target = square, args = (i, arr))\n",
    "    p.start()\n",
    "    processes.append(p)\n",
    "for process in processes:\n",
    "    process.join()\n",
    "\n",
    "print(list(arr))\n",
    "end = time.perf_counter()\n",
    "\n",
    "\n",
    "print(f\"The program finished in {round(end-start, 2)} seconds.\")"
   ]
  },
  {
   "cell_type": "code",
   "execution_count": 8,
   "id": "268a4310-2de6-4707-a6d7-6ca751aa6740",
   "metadata": {},
   "outputs": [
    {
     "name": "stdout",
     "output_type": "stream",
     "text": [
      "The square of 2 is 4The square of 4 is 16The square of 3 is 9The square of 5 is 25The square of 6000 is 36000000\n",
      "\n",
      "\n",
      "\n",
      "\n",
      "The program finished in 0.36 seconds.\n"
     ]
    }
   ],
   "source": [
    "start = time.perf_counter()\n",
    "def square(no):\n",
    "    result = no*no\n",
    "    print(f\"The square of {no} is {result}\")\n",
    "    \n",
    "numbers = [2, 3, 4, 5, 6000]\n",
    "\n",
    "\n",
    "with multiprocessing.Pool() as pool:\n",
    "    pool.map(square, numbers)\n",
    "    \n",
    "    \n",
    "end = time.perf_counter()\n",
    "\n",
    "\n",
    "print(f\"The program finished in {round(end-start, 2)} seconds.\")"
   ]
  },
  {
   "cell_type": "code",
   "execution_count": 1,
   "id": "043c23d2-bb27-43ad-ac4c-15495cb79235",
   "metadata": {},
   "outputs": [
    {
     "name": "stdout",
     "output_type": "stream",
     "text": [
      "Registrar: enroll Ajay\n",
      "Registrar: enroll Bijay\n",
      "Registrar: enroll Sanjay\n",
      "Registrar: enroll Rizwan\n"
     ]
    },
    {
     "name": "stderr",
     "output_type": "stream",
     "text": [
      "Process Process-2:\n",
      "Traceback (most recent call last):\n",
      "  File \"/opt/conda/lib/python3.10/multiprocessing/process.py\", line 314, in _bootstrap\n",
      "    self.run()\n",
      "  File \"/opt/conda/lib/python3.10/multiprocessing/process.py\", line 108, in run\n",
      "    self._target(*self._args, **self._kwargs)\n",
      "  File \"/tmp/ipykernel_4081/228598659.py\", line 9, in register_students\n",
      "    enrollment_req = student_queue.get()\n",
      "  File \"/opt/conda/lib/python3.10/multiprocessing/queues.py\", line 103, in get\n",
      "    res = self._recv_bytes()\n",
      "  File \"/opt/conda/lib/python3.10/multiprocessing/connection.py\", line 221, in recv_bytes\n",
      "    buf = self._recv_bytes(maxlength)\n",
      "  File \"/opt/conda/lib/python3.10/multiprocessing/connection.py\", line 419, in _recv_bytes\n",
      "    buf = self._recv(4)\n",
      "  File \"/opt/conda/lib/python3.10/multiprocessing/connection.py\", line 384, in _recv\n",
      "    chunk = read(handle, remaining)\n",
      "KeyboardInterrupt\n"
     ]
    },
    {
     "ename": "KeyboardInterrupt",
     "evalue": "",
     "output_type": "error",
     "traceback": [
      "\u001b[0;31m---------------------------------------------------------------------------\u001b[0m",
      "\u001b[0;31mKeyboardInterrupt\u001b[0m                         Traceback (most recent call last)",
      "Cell \u001b[0;32mIn[1], line 24\u001b[0m\n\u001b[1;32m     20\u001b[0m reg_process\u001b[38;5;241m.\u001b[39mstart()\n\u001b[1;32m     23\u001b[0m enrollment_process\u001b[38;5;241m.\u001b[39mjoin()\n\u001b[0;32m---> 24\u001b[0m \u001b[43mreg_process\u001b[49m\u001b[38;5;241;43m.\u001b[39;49m\u001b[43mjoin\u001b[49m\u001b[43m(\u001b[49m\u001b[43m)\u001b[49m\n",
      "File \u001b[0;32m/opt/conda/lib/python3.10/multiprocessing/process.py:149\u001b[0m, in \u001b[0;36mBaseProcess.join\u001b[0;34m(self, timeout)\u001b[0m\n\u001b[1;32m    147\u001b[0m \u001b[38;5;28;01massert\u001b[39;00m \u001b[38;5;28mself\u001b[39m\u001b[38;5;241m.\u001b[39m_parent_pid \u001b[38;5;241m==\u001b[39m os\u001b[38;5;241m.\u001b[39mgetpid(), \u001b[38;5;124m'\u001b[39m\u001b[38;5;124mcan only join a child process\u001b[39m\u001b[38;5;124m'\u001b[39m\n\u001b[1;32m    148\u001b[0m \u001b[38;5;28;01massert\u001b[39;00m \u001b[38;5;28mself\u001b[39m\u001b[38;5;241m.\u001b[39m_popen \u001b[38;5;129;01mis\u001b[39;00m \u001b[38;5;129;01mnot\u001b[39;00m \u001b[38;5;28;01mNone\u001b[39;00m, \u001b[38;5;124m'\u001b[39m\u001b[38;5;124mcan only join a started process\u001b[39m\u001b[38;5;124m'\u001b[39m\n\u001b[0;32m--> 149\u001b[0m res \u001b[38;5;241m=\u001b[39m \u001b[38;5;28;43mself\u001b[39;49m\u001b[38;5;241;43m.\u001b[39;49m\u001b[43m_popen\u001b[49m\u001b[38;5;241;43m.\u001b[39;49m\u001b[43mwait\u001b[49m\u001b[43m(\u001b[49m\u001b[43mtimeout\u001b[49m\u001b[43m)\u001b[49m\n\u001b[1;32m    150\u001b[0m \u001b[38;5;28;01mif\u001b[39;00m res \u001b[38;5;129;01mis\u001b[39;00m \u001b[38;5;129;01mnot\u001b[39;00m \u001b[38;5;28;01mNone\u001b[39;00m:\n\u001b[1;32m    151\u001b[0m     _children\u001b[38;5;241m.\u001b[39mdiscard(\u001b[38;5;28mself\u001b[39m)\n",
      "File \u001b[0;32m/opt/conda/lib/python3.10/multiprocessing/popen_fork.py:43\u001b[0m, in \u001b[0;36mPopen.wait\u001b[0;34m(self, timeout)\u001b[0m\n\u001b[1;32m     41\u001b[0m             \u001b[38;5;28;01mreturn\u001b[39;00m \u001b[38;5;28;01mNone\u001b[39;00m\n\u001b[1;32m     42\u001b[0m     \u001b[38;5;66;03m# This shouldn't block if wait() returned successfully.\u001b[39;00m\n\u001b[0;32m---> 43\u001b[0m     \u001b[38;5;28;01mreturn\u001b[39;00m \u001b[38;5;28;43mself\u001b[39;49m\u001b[38;5;241;43m.\u001b[39;49m\u001b[43mpoll\u001b[49m\u001b[43m(\u001b[49m\u001b[43mos\u001b[49m\u001b[38;5;241;43m.\u001b[39;49m\u001b[43mWNOHANG\u001b[49m\u001b[43m \u001b[49m\u001b[38;5;28;43;01mif\u001b[39;49;00m\u001b[43m \u001b[49m\u001b[43mtimeout\u001b[49m\u001b[43m \u001b[49m\u001b[38;5;241;43m==\u001b[39;49m\u001b[43m \u001b[49m\u001b[38;5;241;43m0.0\u001b[39;49m\u001b[43m \u001b[49m\u001b[38;5;28;43;01melse\u001b[39;49;00m\u001b[43m \u001b[49m\u001b[38;5;241;43m0\u001b[39;49m\u001b[43m)\u001b[49m\n\u001b[1;32m     44\u001b[0m \u001b[38;5;28;01mreturn\u001b[39;00m \u001b[38;5;28mself\u001b[39m\u001b[38;5;241m.\u001b[39mreturncode\n",
      "File \u001b[0;32m/opt/conda/lib/python3.10/multiprocessing/popen_fork.py:27\u001b[0m, in \u001b[0;36mPopen.poll\u001b[0;34m(self, flag)\u001b[0m\n\u001b[1;32m     25\u001b[0m \u001b[38;5;28;01mif\u001b[39;00m \u001b[38;5;28mself\u001b[39m\u001b[38;5;241m.\u001b[39mreturncode \u001b[38;5;129;01mis\u001b[39;00m \u001b[38;5;28;01mNone\u001b[39;00m:\n\u001b[1;32m     26\u001b[0m     \u001b[38;5;28;01mtry\u001b[39;00m:\n\u001b[0;32m---> 27\u001b[0m         pid, sts \u001b[38;5;241m=\u001b[39m \u001b[43mos\u001b[49m\u001b[38;5;241;43m.\u001b[39;49m\u001b[43mwaitpid\u001b[49m\u001b[43m(\u001b[49m\u001b[38;5;28;43mself\u001b[39;49m\u001b[38;5;241;43m.\u001b[39;49m\u001b[43mpid\u001b[49m\u001b[43m,\u001b[49m\u001b[43m \u001b[49m\u001b[43mflag\u001b[49m\u001b[43m)\u001b[49m\n\u001b[1;32m     28\u001b[0m     \u001b[38;5;28;01mexcept\u001b[39;00m \u001b[38;5;167;01mOSError\u001b[39;00m:\n\u001b[1;32m     29\u001b[0m         \u001b[38;5;66;03m# Child process not yet created. See #1731717\u001b[39;00m\n\u001b[1;32m     30\u001b[0m         \u001b[38;5;66;03m# e.errno == errno.ECHILD == 10\u001b[39;00m\n\u001b[1;32m     31\u001b[0m         \u001b[38;5;28;01mreturn\u001b[39;00m \u001b[38;5;28;01mNone\u001b[39;00m\n",
      "\u001b[0;31mKeyboardInterrupt\u001b[0m: "
     ]
    }
   ],
   "source": [
    "import multiprocessing\n",
    "\n",
    "def enroll_students(student_queue):\n",
    "    for student in [\"Ajay\", \"Bijay\", \"Sanjay\", \"Rizwan\"]:\n",
    "        student_queue.put(f\"enroll {student}\")\n",
    "        \n",
    "def register_students(student_queue):\n",
    "    while True:\n",
    "        enrollment_req = student_queue.get()\n",
    "        if enrollment_req is None:\n",
    "            break\n",
    "        print(f\"Registrar: {enrollment_req}\")\n",
    "\n",
    "if True:\n",
    "    student_queue = multiprocessing.Queue()\n",
    "    enrollment_process = multiprocessing.Process(target = enroll_students, args = (student_queue,))\n",
    "    reg_process = multiprocessing.Process(target = register_students, args = (student_queue,))\n",
    "    \n",
    "    enrollment_process.start()\n",
    "    reg_process.start()\n",
    "    \n",
    "    \n",
    "    enrollment_process.join()\n",
    "    reg_process.join()\n",
    "    "
   ]
  },
  {
   "cell_type": "code",
   "execution_count": 4,
   "id": "64c25509-84e8-4cfe-b284-03493b3f86a6",
   "metadata": {},
   "outputs": [
    {
     "name": "stdout",
     "output_type": "stream",
     "text": [
      "do somethingdo somethingdo somethingdo somethingdo somethingdo somethingdo somethingdo somethingdo somethingdo something\n",
      "\n",
      "\n",
      "\n",
      "\n",
      "\n",
      "\n",
      "\n",
      "\n",
      "\n",
      "sleep for a secsleep for a secsleep for a secsleep for a secsleep for a secsleep for a secsleep for a secsleep for a secsleep for a secsleep for a sec\n",
      "\n",
      "\n",
      "\n",
      "\n",
      "\n",
      "\n",
      "\n",
      "\n",
      "\n",
      "done sleepingdone sleepingdone sleepingdone sleepingdone sleepingdone sleeping\n",
      "done sleepingdone sleeping\n",
      "\n",
      "done sleeping\n",
      "\n",
      "done sleeping\n",
      "\n",
      "\n",
      "\n",
      "\n",
      "The program finished in 1.38 seconds\n"
     ]
    }
   ],
   "source": [
    "import time\n",
    "import concurrent.futures\n",
    "\n",
    "def test_func(i):\n",
    "    print(\"do something\")\n",
    "    print(\"sleep for a sec\")\n",
    "    time.sleep(1)\n",
    "    print(\"done sleeping\")\n",
    "\n",
    "start = time.perf_counter()\n",
    "\n",
    "# Use concurrent.futures process pool\n",
    "with concurrent.futures.ProcessPoolExecutor() as executor:\n",
    "    executor.map(test_func, range(10))\n",
    "\n",
    "end = time.perf_counter()\n",
    "\n",
    "print(f\"The program finished in {round(end - start, 2)} seconds\")\n"
   ]
  },
  {
   "cell_type": "code",
   "execution_count": null,
   "id": "906ae66c-9e28-49ba-b7c2-830deae89fa8",
   "metadata": {},
   "outputs": [],
   "source": []
  }
 ],
 "metadata": {
  "kernelspec": {
   "display_name": "Python 3 (ipykernel)",
   "language": "python",
   "name": "python3"
  },
  "language_info": {
   "codemirror_mode": {
    "name": "ipython",
    "version": 3
   },
   "file_extension": ".py",
   "mimetype": "text/x-python",
   "name": "python",
   "nbconvert_exporter": "python",
   "pygments_lexer": "ipython3",
   "version": "3.10.8"
  }
 },
 "nbformat": 4,
 "nbformat_minor": 5
}
